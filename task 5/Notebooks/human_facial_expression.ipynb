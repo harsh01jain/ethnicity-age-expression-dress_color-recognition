{
 "cells": [
  {
   "cell_type": "code",
   "execution_count": 1,
   "id": "78797a6e-3cad-4e91-828a-6e421a00c817",
   "metadata": {},
   "outputs": [
    {
     "name": "stdout",
     "output_type": "stream",
     "text": [
      "WARNING:tensorflow:From C:\\Users\\Harsh\\AppData\\Local\\Packages\\PythonSoftwareFoundation.Python.3.11_qbz5n2kfra8p0\\LocalCache\\local-packages\\Python311\\site-packages\\keras\\src\\losses.py:2976: The name tf.losses.sparse_softmax_cross_entropy is deprecated. Please use tf.compat.v1.losses.sparse_softmax_cross_entropy instead.\n",
      "\n"
     ]
    }
   ],
   "source": [
    "import tensorflow as tf\n",
    "from tensorflow.keras.preprocessing.image import ImageDataGenerator\n",
    "from tensorflow.keras.models import Sequential\n",
    "from tensorflow.keras.layers import Conv2D, MaxPooling2D, Flatten, Dense, Dropout\n",
    "from tensorflow.keras.optimizers import Adam\n",
    "import os\n"
   ]
  },
  {
   "cell_type": "code",
   "execution_count": 3,
   "id": "138c1d00-e7f8-4dbe-b8c5-7d90f3d7aca9",
   "metadata": {},
   "outputs": [],
   "source": [
    "# Get the current working directory\n",
    "current_dir = os.getcwd()\n",
    "\n",
    "# Paths to your directories (navigate up one level from current directory)\n",
    "relative_train_dir = os.path.join('..', 'Data', 'archive (23)', 'images', 'train')\n",
    "relative_val_dir = os.path.join('..', 'Data', 'archive (23)', 'images', 'validation')\n",
    "\n",
    "train_dir = os.path.join(current_dir, relative_train_dir)\n",
    "val_dir = os.path.join(current_dir, relative_val_dir)\n",
    "\n",
    "# ImageDataGenerator for data augmentation and rescaling\n",
    "train_datagen = ImageDataGenerator(\n",
    "    rescale=1./255,\n",
    "    rotation_range=20,\n",
    "    width_shift_range=0.2,\n",
    "    height_shift_range=0.2,\n",
    "    shear_range=0.2,\n",
    "    zoom_range=0.2,\n",
    "    horizontal_flip=True,\n",
    "    fill_mode='nearest'\n",
    ")\n",
    "\n",
    "val_datagen = ImageDataGenerator(rescale=1./255)\n",
    "\n",
    "# Load data from directories\n",
    "train_generator = train_datagen.flow_from_directory(\n",
    "    train_dir,\n",
    "    target_size=(48, 48),\n",
    "    batch_size=32,\n",
    "    class_mode='categorical'\n",
    ")\n",
    "\n",
    "val_generator = val_datagen.flow_from_directory(\n",
    "    val_dir,\n",
    "    target_size=(48, 48),\n",
    "    batch_size=32,\n",
    "    class_mode='categorical'\n",
    ")\n"
   ]
  },
  {
   "cell_type": "code",
   "execution_count": 3,
   "id": "d8758865-33be-497f-9cfa-fd8cffe2d0f3",
   "metadata": {},
   "outputs": [
    {
     "name": "stdout",
     "output_type": "stream",
     "text": [
      "WARNING:tensorflow:From C:\\Users\\Harsh\\AppData\\Local\\Packages\\PythonSoftwareFoundation.Python.3.11_qbz5n2kfra8p0\\LocalCache\\local-packages\\Python311\\site-packages\\keras\\src\\backend.py:873: The name tf.get_default_graph is deprecated. Please use tf.compat.v1.get_default_graph instead.\n",
      "\n",
      "WARNING:tensorflow:From C:\\Users\\Harsh\\AppData\\Local\\Packages\\PythonSoftwareFoundation.Python.3.11_qbz5n2kfra8p0\\LocalCache\\local-packages\\Python311\\site-packages\\keras\\src\\layers\\pooling\\max_pooling2d.py:161: The name tf.nn.max_pool is deprecated. Please use tf.nn.max_pool2d instead.\n",
      "\n"
     ]
    }
   ],
   "source": [
    "model = Sequential([\n",
    "    Conv2D(32, (3, 3), activation='relu', input_shape=(48, 48, 3)),\n",
    "    MaxPooling2D((2, 2)),\n",
    "    Conv2D(64, (3, 3), activation='relu'),\n",
    "    MaxPooling2D((2, 2)),\n",
    "    Conv2D(128, (3, 3), activation='relu'),\n",
    "    MaxPooling2D((2, 2)),\n",
    "    Flatten(),\n",
    "    Dense(128, activation='relu'),\n",
    "    Dropout(0.5),\n",
    "    Dense(7, activation='softmax')\n",
    "])\n"
   ]
  },
  {
   "cell_type": "code",
   "execution_count": 4,
   "id": "74da1aa1-ebb9-4455-9ca1-21181edfbabb",
   "metadata": {},
   "outputs": [],
   "source": [
    "model.compile(\n",
    "    optimizer=Adam(learning_rate=0.001),\n",
    "    loss='categorical_crossentropy',\n",
    "    metrics=['accuracy']\n",
    ")\n"
   ]
  },
  {
   "cell_type": "code",
   "execution_count": 5,
   "id": "2a72e7cd-e5d7-4aae-8472-615c6c9dd8b0",
   "metadata": {},
   "outputs": [
    {
     "name": "stdout",
     "output_type": "stream",
     "text": [
      "Epoch 1/25\n",
      "WARNING:tensorflow:From C:\\Users\\Harsh\\AppData\\Local\\Packages\\PythonSoftwareFoundation.Python.3.11_qbz5n2kfra8p0\\LocalCache\\local-packages\\Python311\\site-packages\\keras\\src\\utils\\tf_utils.py:492: The name tf.ragged.RaggedTensorValue is deprecated. Please use tf.compat.v1.ragged.RaggedTensorValue instead.\n",
      "\n",
      "WARNING:tensorflow:From C:\\Users\\Harsh\\AppData\\Local\\Packages\\PythonSoftwareFoundation.Python.3.11_qbz5n2kfra8p0\\LocalCache\\local-packages\\Python311\\site-packages\\keras\\src\\engine\\base_layer_utils.py:384: The name tf.executing_eagerly_outside_functions is deprecated. Please use tf.compat.v1.executing_eagerly_outside_functions instead.\n",
      "\n",
      "901/901 [==============================] - 55s 58ms/step - loss: 1.8167 - accuracy: 0.2415 - val_loss: 1.7728 - val_accuracy: 0.2605\n",
      "Epoch 2/25\n",
      "901/901 [==============================] - 44s 48ms/step - loss: 1.7808 - accuracy: 0.2595 - val_loss: 1.7160 - val_accuracy: 0.3051\n",
      "Epoch 3/25\n",
      "901/901 [==============================] - 43s 48ms/step - loss: 1.7501 - accuracy: 0.2833 - val_loss: 1.6518 - val_accuracy: 0.3559\n",
      "Epoch 4/25\n",
      "901/901 [==============================] - 44s 48ms/step - loss: 1.6966 - accuracy: 0.3113 - val_loss: 1.5360 - val_accuracy: 0.4074\n",
      "Epoch 5/25\n",
      "901/901 [==============================] - 44s 49ms/step - loss: 1.6274 - accuracy: 0.3520 - val_loss: 1.4302 - val_accuracy: 0.4609\n",
      "Epoch 6/25\n",
      "901/901 [==============================] - 44s 48ms/step - loss: 1.5589 - accuracy: 0.3879 - val_loss: 1.3844 - val_accuracy: 0.4713\n",
      "Epoch 7/25\n",
      "901/901 [==============================] - 44s 48ms/step - loss: 1.5144 - accuracy: 0.4103 - val_loss: 1.3163 - val_accuracy: 0.5010\n",
      "Epoch 8/25\n",
      "901/901 [==============================] - 44s 49ms/step - loss: 1.4835 - accuracy: 0.4239 - val_loss: 1.2852 - val_accuracy: 0.5085\n",
      "Epoch 9/25\n",
      "901/901 [==============================] - 44s 49ms/step - loss: 1.4652 - accuracy: 0.4342 - val_loss: 1.2766 - val_accuracy: 0.5045\n",
      "Epoch 10/25\n",
      "901/901 [==============================] - 45s 49ms/step - loss: 1.4472 - accuracy: 0.4456 - val_loss: 1.2828 - val_accuracy: 0.4996\n",
      "Epoch 11/25\n",
      "901/901 [==============================] - 44s 49ms/step - loss: 1.4269 - accuracy: 0.4477 - val_loss: 1.2530 - val_accuracy: 0.5286\n",
      "Epoch 12/25\n",
      "901/901 [==============================] - 45s 50ms/step - loss: 1.4181 - accuracy: 0.4551 - val_loss: 1.2407 - val_accuracy: 0.5266\n",
      "Epoch 13/25\n",
      "901/901 [==============================] - 44s 48ms/step - loss: 1.4087 - accuracy: 0.4594 - val_loss: 1.2275 - val_accuracy: 0.5318\n",
      "Epoch 14/25\n",
      "901/901 [==============================] - 43s 48ms/step - loss: 1.3926 - accuracy: 0.4615 - val_loss: 1.2319 - val_accuracy: 0.5340\n",
      "Epoch 15/25\n",
      "901/901 [==============================] - 44s 49ms/step - loss: 1.3863 - accuracy: 0.4731 - val_loss: 1.2040 - val_accuracy: 0.5433\n",
      "Epoch 16/25\n",
      "901/901 [==============================] - 44s 49ms/step - loss: 1.3714 - accuracy: 0.4754 - val_loss: 1.2104 - val_accuracy: 0.5379\n",
      "Epoch 17/25\n",
      "901/901 [==============================] - 43s 48ms/step - loss: 1.3702 - accuracy: 0.4780 - val_loss: 1.1964 - val_accuracy: 0.5461\n",
      "Epoch 18/25\n",
      "901/901 [==============================] - 44s 48ms/step - loss: 1.3610 - accuracy: 0.4810 - val_loss: 1.1803 - val_accuracy: 0.5517\n",
      "Epoch 19/25\n",
      "901/901 [==============================] - 45s 50ms/step - loss: 1.3519 - accuracy: 0.4858 - val_loss: 1.1823 - val_accuracy: 0.5477\n",
      "Epoch 20/25\n",
      "901/901 [==============================] - 44s 48ms/step - loss: 1.3513 - accuracy: 0.4843 - val_loss: 1.1748 - val_accuracy: 0.5589\n",
      "Epoch 21/25\n",
      "901/901 [==============================] - 44s 49ms/step - loss: 1.3443 - accuracy: 0.4848 - val_loss: 1.1951 - val_accuracy: 0.5517\n",
      "Epoch 22/25\n",
      "901/901 [==============================] - 43s 48ms/step - loss: 1.3335 - accuracy: 0.4913 - val_loss: 1.1792 - val_accuracy: 0.5546\n",
      "Epoch 23/25\n",
      "901/901 [==============================] - 43s 48ms/step - loss: 1.3318 - accuracy: 0.4916 - val_loss: 1.1672 - val_accuracy: 0.5603\n",
      "Epoch 24/25\n",
      "901/901 [==============================] - 44s 48ms/step - loss: 1.3276 - accuracy: 0.4938 - val_loss: 1.1858 - val_accuracy: 0.5555\n",
      "Epoch 25/25\n",
      "901/901 [==============================] - 44s 49ms/step - loss: 1.3343 - accuracy: 0.4946 - val_loss: 1.1816 - val_accuracy: 0.5504\n"
     ]
    }
   ],
   "source": [
    "history = model.fit(\n",
    "    train_generator,\n",
    "    epochs=25,\n",
    "    validation_data=val_generator\n",
    ")\n"
   ]
  },
  {
   "cell_type": "code",
   "execution_count": null,
   "id": "3a03abb4-b6a6-495b-8a50-aeb44fdf516f",
   "metadata": {},
   "outputs": [],
   "source": [
    "# model.save(\"human_expression_task5.model\",save_format=\"h5\")"
   ]
  }
 ],
 "metadata": {
  "kernelspec": {
   "display_name": "Python 3 (ipykernel)",
   "language": "python",
   "name": "python3"
  },
  "language_info": {
   "codemirror_mode": {
    "name": "ipython",
    "version": 3
   },
   "file_extension": ".py",
   "mimetype": "text/x-python",
   "name": "python",
   "nbconvert_exporter": "python",
   "pygments_lexer": "ipython3",
   "version": "3.11.9"
  }
 },
 "nbformat": 4,
 "nbformat_minor": 5
}
